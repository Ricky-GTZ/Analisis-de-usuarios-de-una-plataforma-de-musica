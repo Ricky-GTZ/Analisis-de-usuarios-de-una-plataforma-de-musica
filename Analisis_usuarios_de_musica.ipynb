{
 "cells": [
  {
   "cell_type": "markdown",
   "metadata": {
    "id": "VUC88oWjTJw2"
   },
   "source": [
    "## Introducción <a id='intro'></a>\n",
    "Como analista de datos, tu trabajo consiste en analizar datos para extraer información valiosa y tomar decisiones basadas en ellos. Esto implica diferentes etapas, como la descripción general de los datos, el preprocesamiento y la prueba de hipótesis.\n",
    "\n",
    "Siempre que investigamos, necesitamos formular hipótesis que después podamos probar. A veces aceptamos estas hipótesis; otras veces, las rechazamos. Para tomar las decisiones correctas, una empresa debe ser capaz de entender si está haciendo las suposiciones correctas.\n",
    "\n",
    "En este proyecto, compararás las preferencias musicales de las ciudades de Springfield y Shelbyville. Estudiarás datos reales de transmisión de música online para probar la hipótesis a continuación y comparar el comportamiento de los usuarios y las usuarias de estas dos ciudades.\n",
    "\n",
    "### Objetivo:\n",
    "Prueba la hipótesis:\n",
    "1. La actividad de los usuarios y las usuarias difiere según el día de la semana y dependiendo de la ciudad.\n",
    "\n",
    "\n",
    "### Etapas\n",
    "Los datos del comportamiento del usuario se almacenan en el archivo `/datasets/music_project_en.csv`. No hay ninguna información sobre la calidad de los datos, así que necesitarás examinarlos antes de probar la hipótesis.\n",
    "\n",
    "Primero, evaluarás la calidad de los datos y verás si los problemas son significativos. Entonces, durante el preprocesamiento de datos, tomarás en cuenta los problemas más críticos.\n",
    "\n"
   ]
  },
  {
   "cell_type": "markdown",
   "metadata": {
    "id": "Ml1hmfXC_Zcs"
   },
   "source": [
    "## Descripción de los datos <a id='data_review'></a>\n",
    "\n",
    "Abrir datos y examínalos."
   ]
  },
  {
   "cell_type": "code",
   "execution_count": 1,
   "metadata": {
    "id": "AXN7PHPN_Zcs"
   },
   "outputs": [],
   "source": [
    "# Importar pandas\n",
    "import pandas as pd\n"
   ]
  },
  {
   "cell_type": "code",
   "execution_count": 2,
   "metadata": {
    "id": "fFVu7vqh_Zct"
   },
   "outputs": [],
   "source": [
    "# Leer el archivo y almacenarlo en df\n",
    "df=pd.read_csv('music_project_en.csv')"
   ]
  },
  {
   "cell_type": "code",
   "execution_count": 3,
   "metadata": {
    "id": "oWTVX3gW_Zct"
   },
   "outputs": [
    {
     "data": {
      "text/html": [
       "<div>\n",
       "<style scoped>\n",
       "    .dataframe tbody tr th:only-of-type {\n",
       "        vertical-align: middle;\n",
       "    }\n",
       "\n",
       "    .dataframe tbody tr th {\n",
       "        vertical-align: top;\n",
       "    }\n",
       "\n",
       "    .dataframe thead th {\n",
       "        text-align: right;\n",
       "    }\n",
       "</style>\n",
       "<table border=\"1\" class=\"dataframe\">\n",
       "  <thead>\n",
       "    <tr style=\"text-align: right;\">\n",
       "      <th></th>\n",
       "      <th>userID</th>\n",
       "      <th>Track</th>\n",
       "      <th>artist</th>\n",
       "      <th>genre</th>\n",
       "      <th>City</th>\n",
       "      <th>time</th>\n",
       "      <th>Day</th>\n",
       "    </tr>\n",
       "  </thead>\n",
       "  <tbody>\n",
       "    <tr>\n",
       "      <th>0</th>\n",
       "      <td>FFB692EC</td>\n",
       "      <td>Kamigata To Boots</td>\n",
       "      <td>The Mass Missile</td>\n",
       "      <td>rock</td>\n",
       "      <td>Shelbyville</td>\n",
       "      <td>20:28:33</td>\n",
       "      <td>Wednesday</td>\n",
       "    </tr>\n",
       "    <tr>\n",
       "      <th>1</th>\n",
       "      <td>55204538</td>\n",
       "      <td>Delayed Because of Accident</td>\n",
       "      <td>Andreas Rönnberg</td>\n",
       "      <td>rock</td>\n",
       "      <td>Springfield</td>\n",
       "      <td>14:07:09</td>\n",
       "      <td>Friday</td>\n",
       "    </tr>\n",
       "    <tr>\n",
       "      <th>2</th>\n",
       "      <td>20EC38</td>\n",
       "      <td>Funiculì funiculà</td>\n",
       "      <td>Mario Lanza</td>\n",
       "      <td>pop</td>\n",
       "      <td>Shelbyville</td>\n",
       "      <td>20:58:07</td>\n",
       "      <td>Wednesday</td>\n",
       "    </tr>\n",
       "    <tr>\n",
       "      <th>3</th>\n",
       "      <td>A3DD03C9</td>\n",
       "      <td>Dragons in the Sunset</td>\n",
       "      <td>Fire + Ice</td>\n",
       "      <td>folk</td>\n",
       "      <td>Shelbyville</td>\n",
       "      <td>08:37:09</td>\n",
       "      <td>Monday</td>\n",
       "    </tr>\n",
       "    <tr>\n",
       "      <th>4</th>\n",
       "      <td>E2DC1FAE</td>\n",
       "      <td>Soul People</td>\n",
       "      <td>Space Echo</td>\n",
       "      <td>dance</td>\n",
       "      <td>Springfield</td>\n",
       "      <td>08:34:34</td>\n",
       "      <td>Monday</td>\n",
       "    </tr>\n",
       "    <tr>\n",
       "      <th>5</th>\n",
       "      <td>842029A1</td>\n",
       "      <td>Chains</td>\n",
       "      <td>Obladaet</td>\n",
       "      <td>rusrap</td>\n",
       "      <td>Shelbyville</td>\n",
       "      <td>13:09:41</td>\n",
       "      <td>Friday</td>\n",
       "    </tr>\n",
       "    <tr>\n",
       "      <th>6</th>\n",
       "      <td>4CB90AA5</td>\n",
       "      <td>True</td>\n",
       "      <td>Roman Messer</td>\n",
       "      <td>dance</td>\n",
       "      <td>Springfield</td>\n",
       "      <td>13:00:07</td>\n",
       "      <td>Wednesday</td>\n",
       "    </tr>\n",
       "    <tr>\n",
       "      <th>7</th>\n",
       "      <td>F03E1C1F</td>\n",
       "      <td>Feeling This Way</td>\n",
       "      <td>Polina Griffith</td>\n",
       "      <td>dance</td>\n",
       "      <td>Springfield</td>\n",
       "      <td>20:47:49</td>\n",
       "      <td>Wednesday</td>\n",
       "    </tr>\n",
       "    <tr>\n",
       "      <th>8</th>\n",
       "      <td>8FA1D3BE</td>\n",
       "      <td>L’estate</td>\n",
       "      <td>Julia Dalia</td>\n",
       "      <td>ruspop</td>\n",
       "      <td>Springfield</td>\n",
       "      <td>09:17:40</td>\n",
       "      <td>Friday</td>\n",
       "    </tr>\n",
       "    <tr>\n",
       "      <th>9</th>\n",
       "      <td>E772D5C0</td>\n",
       "      <td>Pessimist</td>\n",
       "      <td>NaN</td>\n",
       "      <td>dance</td>\n",
       "      <td>Shelbyville</td>\n",
       "      <td>21:20:49</td>\n",
       "      <td>Wednesday</td>\n",
       "    </tr>\n",
       "  </tbody>\n",
       "</table>\n",
       "</div>"
      ],
      "text/plain": [
       "     userID                        Track            artist   genre  \\\n",
       "0  FFB692EC            Kamigata To Boots  The Mass Missile    rock   \n",
       "1  55204538  Delayed Because of Accident  Andreas Rönnberg    rock   \n",
       "2    20EC38            Funiculì funiculà       Mario Lanza     pop   \n",
       "3  A3DD03C9        Dragons in the Sunset        Fire + Ice    folk   \n",
       "4  E2DC1FAE                  Soul People        Space Echo   dance   \n",
       "5  842029A1                       Chains          Obladaet  rusrap   \n",
       "6  4CB90AA5                         True      Roman Messer   dance   \n",
       "7  F03E1C1F             Feeling This Way   Polina Griffith   dance   \n",
       "8  8FA1D3BE                     L’estate       Julia Dalia  ruspop   \n",
       "9  E772D5C0                    Pessimist               NaN   dance   \n",
       "\n",
       "        City        time        Day  \n",
       "0  Shelbyville  20:28:33  Wednesday  \n",
       "1  Springfield  14:07:09     Friday  \n",
       "2  Shelbyville  20:58:07  Wednesday  \n",
       "3  Shelbyville  08:37:09     Monday  \n",
       "4  Springfield  08:34:34     Monday  \n",
       "5  Shelbyville  13:09:41     Friday  \n",
       "6  Springfield  13:00:07  Wednesday  \n",
       "7  Springfield  20:47:49  Wednesday  \n",
       "8  Springfield  09:17:40     Friday  \n",
       "9  Shelbyville  21:20:49  Wednesday  "
      ]
     },
     "execution_count": 3,
     "metadata": {},
     "output_type": "execute_result"
    }
   ],
   "source": [
    "# Obtener las 10 primeras filas de la tabla df\n",
    "df.head(10)\n"
   ]
  },
  {
   "cell_type": "markdown",
   "metadata": {
    "id": "EO73Kwic_Zct"
   },
   "source": [
    "Información general sobre la tabla"
   ]
  },
  {
   "cell_type": "code",
   "execution_count": 4,
   "metadata": {
    "id": "DSf2kIb-_Zct"
   },
   "outputs": [
    {
     "name": "stdout",
     "output_type": "stream",
     "text": [
      "<class 'pandas.core.frame.DataFrame'>\n",
      "RangeIndex: 65079 entries, 0 to 65078\n",
      "Data columns (total 7 columns):\n",
      " #   Column    Non-Null Count  Dtype \n",
      "---  ------    --------------  ----- \n",
      " 0     userID  65079 non-null  object\n",
      " 1   Track     63736 non-null  object\n",
      " 2   artist    57512 non-null  object\n",
      " 3   genre     63881 non-null  object\n",
      " 4     City    65079 non-null  object\n",
      " 5   time      65079 non-null  object\n",
      " 6   Day       65079 non-null  object\n",
      "dtypes: object(7)\n",
      "memory usage: 3.5+ MB\n"
     ]
    }
   ],
   "source": [
    "# Obtener la información general sobre nuestros datos\n",
    "\n",
    "df.info()\n"
   ]
  },
  {
   "cell_type": "markdown",
   "metadata": {
    "id": "TaQ2Iwbr_Zct"
   },
   "source": [
    "Observaciones sobre la tabla. Contiene siete columnas. Almacenan los mismos tipos de datos: `object`.\n",
    "\n",
    "Según la documentación:\n",
    "- `' userID'`: identificador del usuario o la usuaria;\n",
    "- `'Track'`: título de la canción;\n",
    "- `'artist'`: nombre del artista;\n",
    "- `'genre'`: género de la pista;\n",
    "- `'City'`: ciudad del usuario o la usuaria;\n",
    "- `'time'`: la hora exacta en la que se reprodujo la canción;\n",
    "- `'Day'`: día de la semana.\n",
    "\n",
    "Podemos ver tres problemas con el estilo en los encabezados de la tabla:\n",
    "1. Algunos encabezados están en mayúsculas, otros en minúsculas.\n",
    "2. Hay espacios en algunos encabezados.\n",
    "3. Existen valores nulos en las columnas genre artist y track"
   ]
  },
  {
   "cell_type": "markdown",
   "metadata": {
    "id": "MCB6-dXG_Zct"
   },
   "source": [
    "### Observaciones: <a id='data_review_conclusions'></a>\n",
    "\n",
    "\n",
    "* User es un codigo alfanumerico para cada usuario\n",
    "* Track es un string\n",
    "* Artist es un string\n",
    "* Genre es un string\n",
    "* City es un string\n",
    "* Time es un numero con el formato Time\n",
    "* Day es un string\n",
    "\n",
    "* Es posible un análisis a partir de los datos proporcionados\n"
   ]
  },
  {
   "cell_type": "markdown",
   "metadata": {
    "id": "SjYF6Ub9_Zct"
   },
   "source": [
    "## Preprocesamiento de datos <a id='data_preprocessing'></a>\n",
    "\n",
    "El objetivo aquí es preparar los datos para que sean analizados.\n",
    "El primer paso es resolver cualquier problema con los encabezados. Luego podemos avanzar a los valores ausentes y duplicados.\n"
   ]
  },
  {
   "cell_type": "markdown",
   "metadata": {
    "id": "dIaKXr29_Zct"
   },
   "source": [
    "### Estilo del encabezado <a id='header_style'></a>"
   ]
  },
  {
   "cell_type": "code",
   "execution_count": 5,
   "metadata": {
    "id": "oKOTdF_Q_Zct"
   },
   "outputs": [
    {
     "data": {
      "text/plain": [
       "Index(['  userID', 'Track', 'artist', 'genre', '  City  ', 'time', 'Day'], dtype='object')"
      ]
     },
     "execution_count": 5,
     "metadata": {},
     "output_type": "execute_result"
    }
   ],
   "source": [
    "# Nombres de las columnas\n",
    "\n",
    "df.columns\n"
   ]
  },
  {
   "cell_type": "markdown",
   "metadata": {
    "id": "zj5534cv_Zct"
   },
   "source": [
    "Acciones a realizar: \n",
    "* Todos los caracteres deben ser minúsculas.\n",
    "* Eliminar los espacios.\n",
    "* Si el nombre tiene varias palabras, utiliza snake_case."
   ]
  },
  {
   "cell_type": "code",
   "execution_count": 6,
   "metadata": {
    "id": "6I_RwwMhzM4e"
   },
   "outputs": [
    {
     "name": "stdout",
     "output_type": "stream",
     "text": [
      "Index(['  userid', 'track', 'artist', 'genre', '  city  ', 'time', 'day'], dtype='object')\n"
     ]
    }
   ],
   "source": [
    "# Encabezados poniendo todo en minúsculas\n",
    "\n",
    "df.columns = df.columns.str.lower()\n",
    "print(df.columns)\n"
   ]
  },
  {
   "cell_type": "code",
   "execution_count": 7,
   "metadata": {
    "id": "vVQXbFyJzSYl"
   },
   "outputs": [
    {
     "name": "stdout",
     "output_type": "stream",
     "text": [
      "Index(['userid', 'track', 'artist', 'genre', 'city', 'time', 'day'], dtype='object')\n"
     ]
    }
   ],
   "source": [
    "# Encabezados eliminando los espacios\n",
    "df.columns = df.columns.str.strip().str.replace(' ', '')\n",
    "print(df.columns)\n"
   ]
  },
  {
   "cell_type": "code",
   "execution_count": 8,
   "metadata": {
    "id": "ISlFqs5y_Zct"
   },
   "outputs": [
    {
     "name": "stdout",
     "output_type": "stream",
     "text": [
      "Index(['user_id', 'track', 'artist', 'genre', 'city', 'time', 'day'], dtype='object')\n"
     ]
    }
   ],
   "source": [
    "# Cambiar el nombre de la columna \"userid\"\n",
    "new ={\n",
    "    'userid':'user_id',\n",
    "   \n",
    "    }\n",
    "df=df.rename(columns = new)\n",
    "\n",
    "print(df.columns)  "
   ]
  },
  {
   "cell_type": "code",
   "execution_count": 9,
   "metadata": {
    "id": "d4NOAmTW_Zct"
   },
   "outputs": [
    {
     "name": "stdout",
     "output_type": "stream",
     "text": [
      "Index(['user_id', 'track', 'artist', 'genre', 'city', 'time', 'day'], dtype='object')\n"
     ]
    }
   ],
   "source": [
    "# Comprobar el resultado: la lista de encabezados\n",
    "print(df.columns) "
   ]
  },
  {
   "cell_type": "markdown",
   "metadata": {
    "id": "5ISfbcfY_Zct"
   },
   "source": [
    "### Valores ausentes <a id='missing_values'></a>\n"
   ]
  },
  {
   "cell_type": "code",
   "execution_count": 10,
   "metadata": {
    "id": "RskX29qr_Zct"
   },
   "outputs": [
    {
     "name": "stdout",
     "output_type": "stream",
     "text": [
      "user_id       0\n",
      "track      1343\n",
      "artist     7567\n",
      "genre      1198\n",
      "city          0\n",
      "time          0\n",
      "day           0\n",
      "dtype: int64\n"
     ]
    }
   ],
   "source": [
    "# Calcular el número de valores ausentes\n",
    "\n",
    "print(df.isna().sum())\n"
   ]
  },
  {
   "cell_type": "code",
   "execution_count": 11,
   "metadata": {
    "id": "KplB5qWs_Zct"
   },
   "outputs": [],
   "source": [
    "# Bucle en los encabezados reemplazando los valores ausentes con 'unknown'\n",
    "\n",
    "replace = ['track', 'artist' , 'genre']\n",
    "\n",
    "for i in df.columns:\n",
    "\n",
    "    df[i] = df[i].fillna('unknown')\n",
    "\n"
   ]
  },
  {
   "cell_type": "code",
   "execution_count": 12,
   "metadata": {
    "id": "Tq4nYRX4_Zct"
   },
   "outputs": [
    {
     "name": "stdout",
     "output_type": "stream",
     "text": [
      "user_id    0\n",
      "track      0\n",
      "artist     0\n",
      "genre      0\n",
      "city       0\n",
      "time       0\n",
      "day        0\n",
      "dtype: int64\n"
     ]
    }
   ],
   "source": [
    "# Contar valores ausentes\n",
    "print(df.isna().sum())\n"
   ]
  },
  {
   "cell_type": "markdown",
   "metadata": {
    "id": "BWKRtBJ3_Zct"
   },
   "source": [
    "### Duplicados <a id='duplicates'></a>\n"
   ]
  },
  {
   "cell_type": "code",
   "execution_count": 13,
   "metadata": {
    "id": "36eES_S0_Zct"
   },
   "outputs": [
    {
     "name": "stdout",
     "output_type": "stream",
     "text": [
      "3826\n"
     ]
    }
   ],
   "source": [
    "# Contar duplicados explícitos\n",
    "\n",
    "print(df.duplicated().sum())"
   ]
  },
  {
   "cell_type": "code",
   "execution_count": 14,
   "metadata": {
    "id": "exFHq6tt_Zct"
   },
   "outputs": [
    {
     "name": "stdout",
     "output_type": "stream",
     "text": [
      "None\n"
     ]
    }
   ],
   "source": [
    "# Eliminar duplicados explícitos\n",
    "print(df.drop_duplicates(inplace=True))"
   ]
  },
  {
   "cell_type": "code",
   "execution_count": 15,
   "metadata": {
    "id": "-8PuNWQ0_Zct"
   },
   "outputs": [
    {
     "name": "stdout",
     "output_type": "stream",
     "text": [
      "0\n"
     ]
    }
   ],
   "source": [
    "# Comprobar de nuevo si hay duplicados\n",
    "\n",
    "print(df.duplicated().sum())\n"
   ]
  },
  {
   "cell_type": "code",
   "execution_count": 16,
   "metadata": {
    "id": "JIUcqzZN_Zct"
   },
   "outputs": [
    {
     "name": "stdout",
     "output_type": "stream",
     "text": [
      "['rock' 'pop' 'folk' 'dance' 'rusrap' 'ruspop' 'world' 'electronic'\n",
      " 'unknown' 'alternative' 'children' 'rnb' 'hip' 'jazz' 'postrock' 'latin'\n",
      " 'classical' 'metal' 'reggae' 'triphop' 'blues' 'instrumental' 'rusrock'\n",
      " 'dnb' 'türk' 'post' 'country' 'psychedelic' 'conjazz' 'indie'\n",
      " 'posthardcore' 'local' 'avantgarde' 'punk' 'videogame' 'techno' 'house'\n",
      " 'christmas' 'melodic' 'caucasian' 'reggaeton' 'soundtrack' 'singer' 'ska'\n",
      " 'salsa' 'ambient' 'film' 'western' 'rap' 'beats' \"hard'n'heavy\"\n",
      " 'progmetal' 'minimal' 'tropical' 'contemporary' 'new' 'soul' 'holiday'\n",
      " 'german' 'jpop' 'spiritual' 'urban' 'gospel' 'nujazz' 'folkmetal'\n",
      " 'trance' 'miscellaneous' 'anime' 'hardcore' 'progressive' 'korean'\n",
      " 'numetal' 'vocal' 'estrada' 'tango' 'loungeelectronic' 'classicmetal'\n",
      " 'dubstep' 'club' 'deep' 'southern' 'black' 'folkrock' 'fitness' 'french'\n",
      " 'disco' 'religious' 'hiphop' 'drum' 'extrememetal' 'türkçe'\n",
      " 'experimental' 'easy' 'metalcore' 'modern' 'argentinetango' 'old' 'swing'\n",
      " 'breaks' 'eurofolk' 'stonerrock' 'industrial' 'funk' 'middle' 'variété'\n",
      " 'other' 'adult' 'christian' 'thrash' 'gothic' 'international' 'muslim'\n",
      " 'relax' 'schlager' 'caribbean' 'nu' 'breakbeat' 'comedy' 'chill' 'newage'\n",
      " 'specialty' 'uzbek' 'k-pop' 'balkan' 'chinese' 'meditative' 'dub' 'power'\n",
      " 'death' 'grime' 'arabesk' 'romance' 'flamenco' 'leftfield' 'european'\n",
      " 'tech' 'newwave' 'dancehall' 'mpb' 'piano' 'top' 'bigroom' 'opera'\n",
      " 'celtic' 'tradjazz' 'acoustic' 'epicmetal' 'hip-hop' 'historisch'\n",
      " 'downbeat' 'downtempo' 'africa' 'audiobook' 'jewish' 'sängerportrait'\n",
      " 'deutschrock' 'eastern' 'action' 'future' 'electropop' 'folklore'\n",
      " 'bollywood' 'marschmusik' 'rnr' 'karaoke' 'indian' 'rancheras'\n",
      " 'afrikaans' 'rhythm' 'sound' 'deutschspr' 'trip' 'lovers' 'choral'\n",
      " 'dancepop' 'retro' 'smooth' 'mexican' 'brazilian' 'ïîï' 'mood' 'surf'\n",
      " 'gangsta' 'inspirational' 'idm' 'ethnic' 'bluegrass' 'broadway'\n",
      " 'animated' 'americana' 'karadeniz' 'rockabilly' 'colombian' 'self' 'hop'\n",
      " 'sertanejo' 'japanese' 'canzone' 'lounge' 'sport' 'ragga' 'traditional'\n",
      " 'gitarre' 'frankreich' 'emo' 'laiko' 'cantopop' 'glitch' 'documentary'\n",
      " 'oceania' 'popeurodance' 'dark' 'vi' 'grunge' 'hardstyle' 'samba'\n",
      " 'garage' 'art' 'folktronica' 'entehno' 'mediterranean' 'chamber' 'cuban'\n",
      " 'taraftar' 'gypsy' 'hardtechno' 'shoegazing' 'bossa' 'latino' 'worldbeat'\n",
      " 'malaysian' 'baile' 'ghazal' 'arabic' 'popelectronic' 'acid' 'kayokyoku'\n",
      " 'neoklassik' 'tribal' 'tanzorchester' 'native' 'independent' 'cantautori'\n",
      " 'handsup' 'punjabi' 'synthpop' 'rave' 'französisch' 'quebecois' 'speech'\n",
      " 'soulful' 'jam' 'ram' 'horror' 'orchestral' 'neue' 'roots' 'slow'\n",
      " 'jungle' 'indipop' 'axé' 'fado' 'showtunes' 'arena' 'irish' 'mandopop'\n",
      " 'forró' 'dirty' 'regional']\n",
      "269\n"
     ]
    }
   ],
   "source": [
    "# Inspeccionar los nombres de géneros únicos\n",
    "print(df['genre'].unique())\n",
    "print(df['genre'].nunique())"
   ]
  },
  {
   "cell_type": "markdown",
   "metadata": {
    "id": "qej-Qmuo_Zct"
   },
   "source": [
    "Duplicados implícitos:\n",
    "* `hip`\n",
    "* `hop`\n",
    "* `hip-hop`\n"
   ]
  },
  {
   "cell_type": "code",
   "execution_count": 17,
   "metadata": {
    "id": "ErNDkmns_Zct"
   },
   "outputs": [],
   "source": [
    "# Función para reemplazar duplicados implícitos\n",
    "\n",
    "def replace_wrong_genres(a,b):\n",
    "    \n",
    "    \n",
    "    for i in df['genre']:\n",
    "        \n",
    "        df['genre']=df['genre'].replace(a,b)\n",
    "     \n",
    "  \n",
    "        "
   ]
  },
  {
   "cell_type": "code",
   "execution_count": 18,
   "metadata": {
    "id": "YN5i2hpmSo09"
   },
   "outputs": [],
   "source": [
    "# Eliminar duplicados implícitos\n",
    "wrong_genres= ['hip','hop','hip-hop']       \n",
    "correct_genre='hiphop'\n",
    "\n",
    "replace_wrong_genres(wrong_genres,correct_genre)\n"
   ]
  },
  {
   "cell_type": "code",
   "execution_count": 19,
   "metadata": {
    "id": "wvixALnFG15m"
   },
   "outputs": [
    {
     "name": "stdout",
     "output_type": "stream",
     "text": [
      "['rock' 'pop' 'folk' 'dance' 'rusrap' 'ruspop' 'world' 'electronic'\n",
      " 'unknown' 'alternative' 'children' 'rnb' 'hiphop' 'jazz' 'postrock'\n",
      " 'latin' 'classical' 'metal' 'reggae' 'triphop' 'blues' 'instrumental'\n",
      " 'rusrock' 'dnb' 'türk' 'post' 'country' 'psychedelic' 'conjazz' 'indie'\n",
      " 'posthardcore' 'local' 'avantgarde' 'punk' 'videogame' 'techno' 'house'\n",
      " 'christmas' 'melodic' 'caucasian' 'reggaeton' 'soundtrack' 'singer' 'ska'\n",
      " 'salsa' 'ambient' 'film' 'western' 'rap' 'beats' \"hard'n'heavy\"\n",
      " 'progmetal' 'minimal' 'tropical' 'contemporary' 'new' 'soul' 'holiday'\n",
      " 'german' 'jpop' 'spiritual' 'urban' 'gospel' 'nujazz' 'folkmetal'\n",
      " 'trance' 'miscellaneous' 'anime' 'hardcore' 'progressive' 'korean'\n",
      " 'numetal' 'vocal' 'estrada' 'tango' 'loungeelectronic' 'classicmetal'\n",
      " 'dubstep' 'club' 'deep' 'southern' 'black' 'folkrock' 'fitness' 'french'\n",
      " 'disco' 'religious' 'drum' 'extrememetal' 'türkçe' 'experimental' 'easy'\n",
      " 'metalcore' 'modern' 'argentinetango' 'old' 'swing' 'breaks' 'eurofolk'\n",
      " 'stonerrock' 'industrial' 'funk' 'middle' 'variété' 'other' 'adult'\n",
      " 'christian' 'thrash' 'gothic' 'international' 'muslim' 'relax' 'schlager'\n",
      " 'caribbean' 'nu' 'breakbeat' 'comedy' 'chill' 'newage' 'specialty'\n",
      " 'uzbek' 'k-pop' 'balkan' 'chinese' 'meditative' 'dub' 'power' 'death'\n",
      " 'grime' 'arabesk' 'romance' 'flamenco' 'leftfield' 'european' 'tech'\n",
      " 'newwave' 'dancehall' 'mpb' 'piano' 'top' 'bigroom' 'opera' 'celtic'\n",
      " 'tradjazz' 'acoustic' 'epicmetal' 'historisch' 'downbeat' 'downtempo'\n",
      " 'africa' 'audiobook' 'jewish' 'sängerportrait' 'deutschrock' 'eastern'\n",
      " 'action' 'future' 'electropop' 'folklore' 'bollywood' 'marschmusik' 'rnr'\n",
      " 'karaoke' 'indian' 'rancheras' 'afrikaans' 'rhythm' 'sound' 'deutschspr'\n",
      " 'trip' 'lovers' 'choral' 'dancepop' 'retro' 'smooth' 'mexican'\n",
      " 'brazilian' 'ïîï' 'mood' 'surf' 'gangsta' 'inspirational' 'idm' 'ethnic'\n",
      " 'bluegrass' 'broadway' 'animated' 'americana' 'karadeniz' 'rockabilly'\n",
      " 'colombian' 'self' 'sertanejo' 'japanese' 'canzone' 'lounge' 'sport'\n",
      " 'ragga' 'traditional' 'gitarre' 'frankreich' 'emo' 'laiko' 'cantopop'\n",
      " 'glitch' 'documentary' 'oceania' 'popeurodance' 'dark' 'vi' 'grunge'\n",
      " 'hardstyle' 'samba' 'garage' 'art' 'folktronica' 'entehno'\n",
      " 'mediterranean' 'chamber' 'cuban' 'taraftar' 'gypsy' 'hardtechno'\n",
      " 'shoegazing' 'bossa' 'latino' 'worldbeat' 'malaysian' 'baile' 'ghazal'\n",
      " 'arabic' 'popelectronic' 'acid' 'kayokyoku' 'neoklassik' 'tribal'\n",
      " 'tanzorchester' 'native' 'independent' 'cantautori' 'handsup' 'punjabi'\n",
      " 'synthpop' 'rave' 'französisch' 'quebecois' 'speech' 'soulful' 'jam'\n",
      " 'ram' 'horror' 'orchestral' 'neue' 'roots' 'slow' 'jungle' 'indipop'\n",
      " 'axé' 'fado' 'showtunes' 'arena' 'irish' 'mandopop' 'forró' 'dirty'\n",
      " 'regional']\n",
      "266\n"
     ]
    }
   ],
   "source": [
    "# Comprobación de duplicados implícitos\n",
    "print(df['genre'].unique())\n",
    "print(df['genre'].nunique())\n"
   ]
  },
  {
   "cell_type": "markdown",
   "metadata": {
    "id": "WttZHXH0SqKk"
   },
   "source": [
    "## Prueba de hipótesis <a id='hypothesis'></a>"
   ]
  },
  {
   "cell_type": "markdown",
   "metadata": {
    "id": "Im936VVi_Zcu"
   },
   "source": [
    "### Hipótesis: comparar el comportamiento del usuario o la usuaria en las dos ciudades <a id='activity'></a>"
   ]
  },
  {
   "cell_type": "markdown",
   "metadata": {
    "id": "nwt_MuaL_Zcu"
   },
   "source": [
    "La hipótesis afirma que existen diferencias en la forma en que los usuarios y las usuarias de Springfield y Shelbyville consumen música. Para comprobar esto, se usan los datos de tres días de la semana: lunes, miércoles y viernes."
   ]
  },
  {
   "cell_type": "code",
   "execution_count": 20,
   "metadata": {
    "id": "0_Qs96oh_Zcu"
   },
   "outputs": [
    {
     "name": "stdout",
     "output_type": "stream",
     "text": [
      "city\n",
      "Shelbyville    18512\n",
      "Springfield    42741\n",
      "Name: track, dtype: int64\n"
     ]
    }
   ],
   "source": [
    "# Contar las canciones reproducidas en cada ciudad\n",
    "print(df.groupby('city')['track'].count())"
   ]
  },
  {
   "cell_type": "markdown",
   "metadata": {
    "id": "t_Qx-3NewAnK"
   },
   "source": [
    "En shelbyville se reprodujeron 18512 canciones y en Springfield 42741"
   ]
  },
  {
   "cell_type": "code",
   "execution_count": 21,
   "metadata": {
    "id": "uZMKjiJz_Zcu"
   },
   "outputs": [
    {
     "name": "stdout",
     "output_type": "stream",
     "text": [
      "day\n",
      "Friday       21840\n",
      "Monday       21354\n",
      "Wednesday    18059\n",
      "Name: track, dtype: int64\n"
     ]
    }
   ],
   "source": [
    "# Calcular las canciones reproducidas en cada uno de los tres días\n",
    "print(df.groupby('day')['track'].count())"
   ]
  },
  {
   "cell_type": "markdown",
   "metadata": {
    "id": "cC2tNrlL_Zcu"
   },
   "source": [
    " Se puede mostrar el numero de cancines escuchadas en cada dia de la semana"
   ]
  },
  {
   "cell_type": "code",
   "execution_count": 22,
   "metadata": {
    "id": "Nz3GdQB1_Zcu"
   },
   "outputs": [],
   "source": [
    "# Declarar la función number_tracks() con dos parámetros: day= y city=.\n",
    "\n",
    "def number_tracks(day,city):\n",
    "\n",
    "    # Almacena las filas del DataFrame donde el valor en la columna 'day' es igual al parámetro day=\n",
    "    \n",
    "    df_day=df[df['day']==day]\n",
    "\n",
    "    # Filtra las filas donde el valor en la columna 'city' es igual al parámetro city=\n",
    "    df_city=df_day[df_day['city']==city]\n",
    "\n",
    "    # Extrae la columna 'user_id' de la tabla filtrada y aplica el método count()\n",
    "    count=df_city['user_id'].count()\n",
    "\n",
    "    # Devolve el número de valores de la columna 'user_id'\n",
    "    print(count)\n",
    " "
   ]
  },
  {
   "cell_type": "code",
   "execution_count": 23,
   "metadata": {
    "id": "rJcRATNQ_Zcu"
   },
   "outputs": [
    {
     "name": "stdout",
     "output_type": "stream",
     "text": [
      "15740\n"
     ]
    }
   ],
   "source": [
    "# El número de canciones reproducidas en Springfield el lunes\n",
    "day='Monday'\n",
    "city='Springfield'\n",
    "number_tracks(day,city)\n"
   ]
  },
  {
   "cell_type": "code",
   "execution_count": 24,
   "metadata": {
    "id": "hq_ncZ5T_Zcu"
   },
   "outputs": [
    {
     "name": "stdout",
     "output_type": "stream",
     "text": [
      "5614\n"
     ]
    }
   ],
   "source": [
    "# El número de canciones reproducidas en Shelbyville el lunes\n",
    "day='Monday'\n",
    "city='Shelbyville'\n",
    "number_tracks(day,city)\n",
    "\n"
   ]
  },
  {
   "cell_type": "code",
   "execution_count": 25,
   "metadata": {
    "id": "_NTy2VPU_Zcu"
   },
   "outputs": [
    {
     "name": "stdout",
     "output_type": "stream",
     "text": [
      "11056\n"
     ]
    }
   ],
   "source": [
    "# El número de canciones reproducidas en Springfield el miércoles\n",
    "day='Wednesday'\n",
    "city='Springfield'\n",
    "number_tracks(day,city)\n",
    "\n"
   ]
  },
  {
   "cell_type": "code",
   "execution_count": 26,
   "metadata": {
    "id": "j2y3TAwo_Zcu"
   },
   "outputs": [
    {
     "name": "stdout",
     "output_type": "stream",
     "text": [
      "7003\n"
     ]
    }
   ],
   "source": [
    "# El número de canciones reproducidas en Shelbyville el miércoles\n",
    "day='Wednesday'\n",
    "city='Shelbyville'\n",
    "number_tracks(day,city)\n",
    "\n",
    "\n"
   ]
  },
  {
   "cell_type": "code",
   "execution_count": 27,
   "metadata": {
    "id": "vYDw5u_K_Zcu"
   },
   "outputs": [
    {
     "name": "stdout",
     "output_type": "stream",
     "text": [
      "15945\n"
     ]
    }
   ],
   "source": [
    "# El número de canciones reproducidas en Springfield el viernes\n",
    "day='Friday'\n",
    "city='Springfield'\n",
    "number_tracks(day,city)\n",
    "\n"
   ]
  },
  {
   "cell_type": "code",
   "execution_count": 28,
   "metadata": {
    "id": "8_yzFtW3_Zcu"
   },
   "outputs": [
    {
     "name": "stdout",
     "output_type": "stream",
     "text": [
      "5895\n"
     ]
    }
   ],
   "source": [
    "# El número de canciones reproducidas en Shelbyville el viernes\n",
    "day='Friday'\n",
    "city='Shelbyville'\n",
    "number_tracks(day,city)\n",
    "\n"
   ]
  },
  {
   "cell_type": "markdown",
   "metadata": {
    "id": "-EgPIHYu_Zcu"
   },
   "source": [
    "**Conclusiones**\n",
    "\n",
    "\n",
    "\n",
    "Efectivamente, la actividad de los usuarios difiere dependiendo del dia y de la ciudad.\n",
    "\n",
    "Al analizar los datos se puede concluir que Springfield tiene un mayor numero de usuarios en cualquiera de los tres dias\n"
   ]
  },
  {
   "cell_type": "markdown",
   "metadata": {
    "id": "ykKQ0N65_Zcv"
   },
   "source": [
    "# Conclusiones <a id='end'></a>"
   ]
  },
  {
   "cell_type": "markdown",
   "metadata": {
    "id": "tjUwbHb3_Zcv"
   },
   "source": [
    "* Springfield: Tiene un numero mucho mayor de usuarios, y los viernes es el dia que hay mas usuarios\n",
    "* Shelbyville: El miercoles es el dia que tiene mayor numero de usuarios"
   ]
  }
 ],
 "metadata": {
  "ExecuteTimeLog": [
   {
    "duration": 322,
    "start_time": "2024-09-25T00:01:18.848Z"
   },
   {
    "duration": 2,
    "start_time": "2024-09-25T00:01:58.567Z"
   },
   {
    "duration": 133,
    "start_time": "2024-09-25T00:02:02.461Z"
   },
   {
    "duration": 186,
    "start_time": "2024-09-25T00:02:21.195Z"
   },
   {
    "duration": 104,
    "start_time": "2024-09-25T00:02:49.517Z"
   },
   {
    "duration": 9,
    "start_time": "2024-09-25T00:02:55.981Z"
   },
   {
    "duration": 21,
    "start_time": "2024-09-25T00:03:14.923Z"
   },
   {
    "duration": 164,
    "start_time": "2024-09-25T22:27:56.615Z"
   },
   {
    "duration": 11,
    "start_time": "2024-09-25T22:28:03.494Z"
   },
   {
    "duration": 318,
    "start_time": "2024-09-25T22:28:20.463Z"
   },
   {
    "duration": 119,
    "start_time": "2024-09-25T22:28:27.749Z"
   },
   {
    "duration": 12,
    "start_time": "2024-09-25T22:28:30.166Z"
   },
   {
    "duration": 25,
    "start_time": "2024-09-25T22:28:33.624Z"
   },
   {
    "duration": 34,
    "start_time": "2024-09-25T22:28:37.742Z"
   },
   {
    "duration": 11,
    "start_time": "2024-09-25T22:30:31.421Z"
   },
   {
    "duration": 4,
    "start_time": "2024-09-25T22:30:42.130Z"
   },
   {
    "duration": 4,
    "start_time": "2024-09-25T22:31:00.455Z"
   },
   {
    "duration": 7,
    "start_time": "2024-09-25T22:36:31.644Z"
   },
   {
    "duration": 10,
    "start_time": "2024-09-25T22:37:28.283Z"
   },
   {
    "duration": 4,
    "start_time": "2024-09-25T22:40:15.624Z"
   },
   {
    "duration": 3,
    "start_time": "2024-09-25T22:41:00.333Z"
   },
   {
    "duration": 3,
    "start_time": "2024-09-25T22:41:16.744Z"
   },
   {
    "duration": 91,
    "start_time": "2024-09-25T22:41:19.450Z"
   },
   {
    "duration": 8,
    "start_time": "2024-09-25T22:41:22.374Z"
   },
   {
    "duration": 21,
    "start_time": "2024-09-25T22:41:26.512Z"
   },
   {
    "duration": 3,
    "start_time": "2024-09-25T22:41:31.303Z"
   },
   {
    "duration": 3,
    "start_time": "2024-09-25T22:41:36.515Z"
   },
   {
    "duration": 3,
    "start_time": "2024-09-25T22:42:02.068Z"
   },
   {
    "duration": 371,
    "start_time": "2024-09-25T22:43:53.365Z"
   },
   {
    "duration": 39,
    "start_time": "2024-09-25T22:44:50.120Z"
   },
   {
    "duration": 4,
    "start_time": "2024-09-25T22:45:17.090Z"
   },
   {
    "duration": 3,
    "start_time": "2024-09-25T22:45:23.504Z"
   },
   {
    "duration": 3,
    "start_time": "2024-09-25T22:45:28.914Z"
   },
   {
    "duration": 4,
    "start_time": "2024-09-25T22:45:44.084Z"
   },
   {
    "duration": 4,
    "start_time": "2024-09-25T22:45:53.452Z"
   },
   {
    "duration": 4,
    "start_time": "2024-09-25T22:47:28.481Z"
   },
   {
    "duration": 12,
    "start_time": "2024-09-25T22:47:53.863Z"
   },
   {
    "duration": 4,
    "start_time": "2024-09-25T22:48:05.508Z"
   },
   {
    "duration": 4,
    "start_time": "2024-09-25T22:48:27.698Z"
   },
   {
    "duration": 3,
    "start_time": "2024-09-25T22:48:28.974Z"
   },
   {
    "duration": 3,
    "start_time": "2024-09-25T22:48:36.843Z"
   },
   {
    "duration": 14,
    "start_time": "2024-09-25T22:49:02.107Z"
   },
   {
    "duration": 12,
    "start_time": "2024-09-25T22:49:05.599Z"
   },
   {
    "duration": 13,
    "start_time": "2024-09-25T22:49:31.937Z"
   },
   {
    "duration": 13,
    "start_time": "2024-09-25T22:49:45.750Z"
   },
   {
    "duration": 12,
    "start_time": "2024-09-25T22:50:02.845Z"
   },
   {
    "duration": 3,
    "start_time": "2024-09-25T22:50:45.452Z"
   },
   {
    "duration": 3,
    "start_time": "2024-09-25T22:51:00.968Z"
   },
   {
    "duration": 3,
    "start_time": "2024-09-25T22:51:40.891Z"
   },
   {
    "duration": 16,
    "start_time": "2024-09-25T22:52:28.094Z"
   },
   {
    "duration": 3,
    "start_time": "2024-09-25T22:52:44.925Z"
   },
   {
    "duration": 3,
    "start_time": "2024-09-25T22:53:25.271Z"
   },
   {
    "duration": 3,
    "start_time": "2024-09-25T22:53:53.009Z"
   },
   {
    "duration": 12,
    "start_time": "2024-09-25T22:55:11.514Z"
   },
   {
    "duration": 457,
    "start_time": "2024-09-25T22:55:35.340Z"
   },
   {
    "duration": 66,
    "start_time": "2024-09-25T22:56:10.031Z"
   },
   {
    "duration": 3,
    "start_time": "2024-09-25T23:05:57.514Z"
   },
   {
    "duration": 3,
    "start_time": "2024-09-25T23:06:45.864Z"
   },
   {
    "duration": 3,
    "start_time": "2024-09-25T23:06:49.440Z"
   },
   {
    "duration": 11,
    "start_time": "2024-09-25T23:07:03.534Z"
   },
   {
    "duration": 9,
    "start_time": "2024-09-25T23:07:27.631Z"
   },
   {
    "duration": 16,
    "start_time": "2024-09-25T23:07:47.822Z"
   },
   {
    "duration": 3,
    "start_time": "2024-09-25T23:08:02.097Z"
   },
   {
    "duration": 37,
    "start_time": "2024-09-25T23:08:09.491Z"
   },
   {
    "duration": 15,
    "start_time": "2024-09-25T23:09:00.226Z"
   },
   {
    "duration": 3,
    "start_time": "2024-09-25T23:10:32.461Z"
   },
   {
    "duration": 2,
    "start_time": "2024-09-25T23:10:39.737Z"
   },
   {
    "duration": 4,
    "start_time": "2024-09-25T23:10:47.205Z"
   },
   {
    "duration": 13,
    "start_time": "2024-09-25T23:10:54.512Z"
   },
   {
    "duration": 8,
    "start_time": "2024-09-25T23:11:45.985Z"
   },
   {
    "duration": 10,
    "start_time": "2024-09-25T23:12:19.419Z"
   },
   {
    "duration": 11,
    "start_time": "2024-09-25T23:12:24.870Z"
   },
   {
    "duration": 18,
    "start_time": "2024-09-25T23:12:36.765Z"
   },
   {
    "duration": 17,
    "start_time": "2024-09-25T23:12:37.702Z"
   },
   {
    "duration": 4,
    "start_time": "2024-09-25T23:12:50.968Z"
   },
   {
    "duration": 3,
    "start_time": "2024-09-25T23:13:04.823Z"
   },
   {
    "duration": 3,
    "start_time": "2024-09-25T23:13:15.344Z"
   },
   {
    "duration": 9,
    "start_time": "2024-09-25T23:13:47.296Z"
   },
   {
    "duration": 16,
    "start_time": "2024-09-25T23:13:57.879Z"
   },
   {
    "duration": 3,
    "start_time": "2024-09-25T23:17:17.947Z"
   },
   {
    "duration": 3,
    "start_time": "2024-09-25T23:17:30.465Z"
   },
   {
    "duration": 4,
    "start_time": "2024-09-25T23:19:12.654Z"
   },
   {
    "duration": 3,
    "start_time": "2024-09-25T23:19:33.693Z"
   },
   {
    "duration": 6,
    "start_time": "2024-09-25T23:20:36.248Z"
   },
   {
    "duration": 4,
    "start_time": "2024-09-25T23:20:55.300Z"
   },
   {
    "duration": 66,
    "start_time": "2024-09-25T23:20:58.959Z"
   },
   {
    "duration": 18,
    "start_time": "2024-09-25T23:21:05.944Z"
   },
   {
    "duration": 22,
    "start_time": "2024-09-25T23:21:56.010Z"
   },
   {
    "duration": 26,
    "start_time": "2024-09-25T23:22:04.430Z"
   },
   {
    "duration": 6,
    "start_time": "2024-09-25T23:22:54.346Z"
   },
   {
    "duration": 3,
    "start_time": "2024-09-25T23:23:46.883Z"
   },
   {
    "duration": 154,
    "start_time": "2024-09-28T14:31:28.648Z"
   },
   {
    "duration": 287,
    "start_time": "2024-09-28T14:31:55.775Z"
   },
   {
    "duration": 115,
    "start_time": "2024-09-28T14:31:57.909Z"
   },
   {
    "duration": 11,
    "start_time": "2024-09-28T14:32:00.142Z"
   },
   {
    "duration": 23,
    "start_time": "2024-09-28T14:32:03.668Z"
   },
   {
    "duration": 7,
    "start_time": "2024-09-28T14:32:07.829Z"
   },
   {
    "duration": 4,
    "start_time": "2024-09-28T14:32:10.199Z"
   },
   {
    "duration": 4,
    "start_time": "2024-09-28T14:32:12.495Z"
   },
   {
    "duration": 8,
    "start_time": "2024-09-28T14:32:14.743Z"
   },
   {
    "duration": 3,
    "start_time": "2024-09-28T14:32:17.435Z"
   },
   {
    "duration": 23,
    "start_time": "2024-09-28T14:32:20.135Z"
   },
   {
    "duration": 19,
    "start_time": "2024-09-28T14:37:19.459Z"
   },
   {
    "duration": 17,
    "start_time": "2024-09-28T14:37:23.165Z"
   },
   {
    "duration": 43,
    "start_time": "2024-09-28T14:38:24.335Z"
   },
   {
    "duration": 49,
    "start_time": "2024-09-28T14:39:34.179Z"
   },
   {
    "duration": 48,
    "start_time": "2024-09-28T14:40:06.293Z"
   },
   {
    "duration": 4192,
    "start_time": "2024-09-28T14:40:17.036Z"
   },
   {
    "duration": 41,
    "start_time": "2024-09-28T14:40:35.440Z"
   },
   {
    "duration": 43,
    "start_time": "2024-09-28T14:41:04.757Z"
   },
   {
    "duration": 38,
    "start_time": "2024-09-28T14:41:09.251Z"
   },
   {
    "duration": 7,
    "start_time": "2024-09-28T14:42:26.725Z"
   },
   {
    "duration": 2,
    "start_time": "2024-09-28T14:52:20.301Z"
   },
   {
    "duration": 5,
    "start_time": "2024-09-28T14:52:22.798Z"
   },
   {
    "duration": 6,
    "start_time": "2024-09-28T14:57:43.326Z"
   },
   {
    "duration": 2,
    "start_time": "2024-09-28T14:57:43.338Z"
   },
   {
    "duration": 115,
    "start_time": "2024-09-28T14:57:43.346Z"
   },
   {
    "duration": 8,
    "start_time": "2024-09-28T14:57:43.472Z"
   },
   {
    "duration": 19,
    "start_time": "2024-09-28T14:57:43.481Z"
   },
   {
    "duration": 2,
    "start_time": "2024-09-28T14:57:43.527Z"
   },
   {
    "duration": 2,
    "start_time": "2024-09-28T14:58:01.090Z"
   },
   {
    "duration": 99,
    "start_time": "2024-09-28T14:58:05.696Z"
   },
   {
    "duration": 8,
    "start_time": "2024-09-28T14:58:08.673Z"
   },
   {
    "duration": 20,
    "start_time": "2024-09-28T14:58:11.745Z"
   },
   {
    "duration": 4,
    "start_time": "2024-09-28T14:58:15.746Z"
   },
   {
    "duration": 3,
    "start_time": "2024-09-28T14:58:18.215Z"
   },
   {
    "duration": 3,
    "start_time": "2024-09-28T14:58:20.420Z"
   },
   {
    "duration": 5,
    "start_time": "2024-09-28T14:58:23.052Z"
   },
   {
    "duration": 18,
    "start_time": "2024-09-28T14:58:25.989Z"
   },
   {
    "duration": 20,
    "start_time": "2024-09-28T14:58:29.249Z"
   },
   {
    "duration": 17,
    "start_time": "2024-09-28T14:58:31.792Z"
   },
   {
    "duration": 39,
    "start_time": "2024-09-28T14:58:34.543Z"
   },
   {
    "duration": 42,
    "start_time": "2024-09-28T14:58:36.881Z"
   },
   {
    "duration": 37,
    "start_time": "2024-09-28T14:58:44.994Z"
   },
   {
    "duration": 5,
    "start_time": "2024-09-28T14:58:49.865Z"
   },
   {
    "duration": 5,
    "start_time": "2024-09-28T14:59:07.350Z"
   },
   {
    "duration": 7,
    "start_time": "2024-09-28T14:59:13.614Z"
   },
   {
    "duration": 10,
    "start_time": "2024-09-28T14:59:28.226Z"
   },
   {
    "duration": 2,
    "start_time": "2024-09-28T14:59:34.588Z"
   },
   {
    "duration": 302981,
    "start_time": "2024-09-28T14:59:36.757Z"
   },
   {
    "duration": 8,
    "start_time": "2024-09-28T15:04:39.740Z"
   },
   {
    "duration": 7,
    "start_time": "2024-09-28T15:09:08.899Z"
   },
   {
    "duration": 3,
    "start_time": "2024-09-28T15:15:03.667Z"
   },
   {
    "duration": 357,
    "start_time": "2024-09-28T15:15:07.295Z"
   },
   {
    "duration": 5,
    "start_time": "2024-09-28T15:15:38.252Z"
   },
   {
    "duration": 3,
    "start_time": "2024-09-28T15:15:43.156Z"
   },
   {
    "duration": 302297,
    "start_time": "2024-09-28T15:15:45.031Z"
   },
   {
    "duration": 6,
    "start_time": "2024-09-28T15:20:47.330Z"
   },
   {
    "duration": 156,
    "start_time": "2024-09-28T16:06:46.133Z"
   },
   {
    "duration": 276,
    "start_time": "2024-09-28T16:07:37.920Z"
   },
   {
    "duration": 110,
    "start_time": "2024-09-28T16:07:40.345Z"
   },
   {
    "duration": 12,
    "start_time": "2024-09-28T16:07:42.825Z"
   },
   {
    "duration": 22,
    "start_time": "2024-09-28T16:07:45.312Z"
   },
   {
    "duration": 5,
    "start_time": "2024-09-28T16:07:49.000Z"
   },
   {
    "duration": 3,
    "start_time": "2024-09-28T16:07:53.820Z"
   },
   {
    "duration": 4,
    "start_time": "2024-09-28T16:07:56.207Z"
   },
   {
    "duration": 8,
    "start_time": "2024-09-28T16:07:58.459Z"
   },
   {
    "duration": 3,
    "start_time": "2024-09-28T16:08:00.802Z"
   },
   {
    "duration": 19,
    "start_time": "2024-09-28T16:08:02.975Z"
   },
   {
    "duration": 19,
    "start_time": "2024-09-28T16:08:06.077Z"
   },
   {
    "duration": 19,
    "start_time": "2024-09-28T16:08:09.651Z"
   },
   {
    "duration": 43,
    "start_time": "2024-09-28T16:08:12.444Z"
   },
   {
    "duration": 46,
    "start_time": "2024-09-28T16:08:14.929Z"
   },
   {
    "duration": 39,
    "start_time": "2024-09-28T16:08:17.691Z"
   },
   {
    "duration": 5,
    "start_time": "2024-09-28T16:08:20.885Z"
   },
   {
    "duration": 3,
    "start_time": "2024-09-28T16:10:29.214Z"
   },
   {
    "duration": 129789,
    "start_time": "2024-09-28T16:10:32.144Z"
   },
   {
    "duration": 6,
    "start_time": "2024-09-28T16:13:03.413Z"
   },
   {
    "duration": 2,
    "start_time": "2024-09-28T16:14:42.994Z"
   },
   {
    "duration": 43,
    "start_time": "2024-09-28T16:14:46.248Z"
   },
   {
    "duration": 3,
    "start_time": "2024-09-28T16:15:26.922Z"
   },
   {
    "duration": 249,
    "start_time": "2024-09-28T16:15:29.158Z"
   },
   {
    "duration": 3,
    "start_time": "2024-09-28T16:16:42.753Z"
   },
   {
    "duration": 300,
    "start_time": "2024-09-28T16:16:44.770Z"
   },
   {
    "duration": 3,
    "start_time": "2024-09-28T16:17:26.578Z"
   },
   {
    "duration": 28,
    "start_time": "2024-09-28T16:17:28.803Z"
   },
   {
    "duration": 2,
    "start_time": "2024-09-28T16:18:15.710Z"
   },
   {
    "duration": 68,
    "start_time": "2024-09-28T16:18:18.109Z"
   },
   {
    "duration": 3,
    "start_time": "2024-09-28T16:18:27.600Z"
   },
   {
    "duration": 3,
    "start_time": "2024-09-28T16:19:01.875Z"
   },
   {
    "duration": 63,
    "start_time": "2024-09-28T16:19:01.879Z"
   },
   {
    "duration": 2,
    "start_time": "2024-09-28T16:19:21.126Z"
   },
   {
    "duration": 205,
    "start_time": "2024-09-28T16:19:23.771Z"
   },
   {
    "duration": 2,
    "start_time": "2024-09-28T16:19:32.899Z"
   },
   {
    "duration": 217,
    "start_time": "2024-09-28T16:19:34.784Z"
   },
   {
    "duration": 6,
    "start_time": "2024-09-28T16:24:28.659Z"
   },
   {
    "duration": 141543,
    "start_time": "2024-09-28T16:24:30.768Z"
   },
   {
    "duration": 7,
    "start_time": "2024-09-28T16:26:52.313Z"
   },
   {
    "duration": 3,
    "start_time": "2024-09-28T16:27:46.223Z"
   },
   {
    "duration": 66708,
    "start_time": "2024-09-28T16:27:49.435Z"
   },
   {
    "duration": 6,
    "start_time": "2024-09-28T16:28:56.145Z"
   },
   {
    "duration": 300,
    "start_time": "2024-09-28T17:44:41.845Z"
   },
   {
    "duration": 108,
    "start_time": "2024-09-28T17:44:42.258Z"
   },
   {
    "duration": 12,
    "start_time": "2024-09-28T17:44:43.272Z"
   },
   {
    "duration": 21,
    "start_time": "2024-09-28T17:44:43.965Z"
   },
   {
    "duration": 4,
    "start_time": "2024-09-28T17:44:45.923Z"
   },
   {
    "duration": 3,
    "start_time": "2024-09-28T17:44:47.205Z"
   },
   {
    "duration": 4,
    "start_time": "2024-09-28T17:44:47.584Z"
   },
   {
    "duration": 7,
    "start_time": "2024-09-28T17:44:47.965Z"
   },
   {
    "duration": 3,
    "start_time": "2024-09-28T17:44:48.354Z"
   },
   {
    "duration": 20,
    "start_time": "2024-09-28T17:44:49.668Z"
   },
   {
    "duration": 19,
    "start_time": "2024-09-28T17:44:50.400Z"
   },
   {
    "duration": 17,
    "start_time": "2024-09-28T17:44:50.882Z"
   },
   {
    "duration": 41,
    "start_time": "2024-09-28T17:44:52.174Z"
   },
   {
    "duration": 45,
    "start_time": "2024-09-28T17:44:52.712Z"
   },
   {
    "duration": 38,
    "start_time": "2024-09-28T17:44:53.614Z"
   },
   {
    "duration": 3,
    "start_time": "2024-09-28T17:45:08.688Z"
   },
   {
    "duration": 180,
    "start_time": "2024-09-28T17:45:15.540Z"
   },
   {
    "duration": 3,
    "start_time": "2024-09-28T17:45:51.219Z"
   },
   {
    "duration": 7800,
    "start_time": "2024-09-28T17:45:53.266Z"
   },
   {
    "duration": 5,
    "start_time": "2024-09-28T17:46:01.068Z"
   },
   {
    "duration": 7810,
    "start_time": "2024-09-28T17:46:14.441Z"
   },
   {
    "duration": 4,
    "start_time": "2024-09-28T17:46:27.261Z"
   },
   {
    "duration": 3,
    "start_time": "2024-09-28T17:46:45.160Z"
   },
   {
    "duration": 3,
    "start_time": "2024-09-28T17:47:06.121Z"
   },
   {
    "duration": 3,
    "start_time": "2024-09-28T17:47:34.498Z"
   },
   {
    "duration": 3642,
    "start_time": "2024-09-28T17:47:36.984Z"
   },
   {
    "duration": 4,
    "start_time": "2024-09-28T17:47:43.940Z"
   },
   {
    "duration": 2,
    "start_time": "2024-09-28T17:48:17.866Z"
   },
   {
    "duration": 5996,
    "start_time": "2024-09-28T17:48:19.934Z"
   },
   {
    "duration": 3,
    "start_time": "2024-09-28T17:48:27.691Z"
   },
   {
    "duration": 5,
    "start_time": "2024-09-28T17:48:39.545Z"
   },
   {
    "duration": 2,
    "start_time": "2024-09-28T17:48:57.276Z"
   },
   {
    "duration": 90,
    "start_time": "2024-09-28T17:48:58.639Z"
   },
   {
    "duration": 8,
    "start_time": "2024-09-28T17:48:59.005Z"
   },
   {
    "duration": 20,
    "start_time": "2024-09-28T17:48:59.356Z"
   },
   {
    "duration": 4,
    "start_time": "2024-09-28T17:49:00.471Z"
   },
   {
    "duration": 4,
    "start_time": "2024-09-28T17:49:01.347Z"
   },
   {
    "duration": 4,
    "start_time": "2024-09-28T17:49:01.719Z"
   },
   {
    "duration": 5,
    "start_time": "2024-09-28T17:49:02.153Z"
   },
   {
    "duration": 3,
    "start_time": "2024-09-28T17:49:04.646Z"
   },
   {
    "duration": 18,
    "start_time": "2024-09-28T17:49:05.619Z"
   },
   {
    "duration": 20,
    "start_time": "2024-09-28T17:49:08.094Z"
   },
   {
    "duration": 16,
    "start_time": "2024-09-28T17:49:08.961Z"
   },
   {
    "duration": 40,
    "start_time": "2024-09-28T17:49:09.941Z"
   },
   {
    "duration": 43,
    "start_time": "2024-09-28T17:49:10.512Z"
   },
   {
    "duration": 38,
    "start_time": "2024-09-28T17:49:11.423Z"
   },
   {
    "duration": 6,
    "start_time": "2024-09-28T17:49:12.758Z"
   },
   {
    "duration": 3,
    "start_time": "2024-09-28T17:49:19.773Z"
   },
   {
    "duration": 73727,
    "start_time": "2024-09-28T17:49:21.685Z"
   },
   {
    "duration": 6,
    "start_time": "2024-09-28T17:50:35.414Z"
   },
   {
    "duration": 3,
    "start_time": "2024-09-28T17:54:11.671Z"
   },
   {
    "duration": 2,
    "start_time": "2024-09-28T17:59:01.251Z"
   },
   {
    "duration": 275,
    "start_time": "2024-09-30T22:04:37.840Z"
   },
   {
    "duration": 126,
    "start_time": "2024-09-30T22:04:42.884Z"
   },
   {
    "duration": 13,
    "start_time": "2024-09-30T22:04:45.036Z"
   },
   {
    "duration": 21,
    "start_time": "2024-09-30T22:04:47.197Z"
   },
   {
    "duration": 4,
    "start_time": "2024-09-30T22:04:50.634Z"
   },
   {
    "duration": 4,
    "start_time": "2024-09-30T22:04:53.135Z"
   },
   {
    "duration": 4,
    "start_time": "2024-09-30T22:04:53.821Z"
   },
   {
    "duration": 7,
    "start_time": "2024-09-30T22:04:54.383Z"
   },
   {
    "duration": 3,
    "start_time": "2024-09-30T22:04:55.001Z"
   },
   {
    "duration": 18,
    "start_time": "2024-09-30T22:04:56.134Z"
   },
   {
    "duration": 18,
    "start_time": "2024-09-30T22:04:57.118Z"
   },
   {
    "duration": 17,
    "start_time": "2024-09-30T22:04:58.027Z"
   },
   {
    "duration": 43,
    "start_time": "2024-09-30T22:04:59.110Z"
   },
   {
    "duration": 45,
    "start_time": "2024-09-30T22:04:59.824Z"
   },
   {
    "duration": 38,
    "start_time": "2024-09-30T22:05:00.858Z"
   },
   {
    "duration": 5,
    "start_time": "2024-09-30T22:05:02.353Z"
   },
   {
    "duration": 3,
    "start_time": "2024-09-30T22:05:47.354Z"
   },
   {
    "duration": 287984,
    "start_time": "2024-09-30T22:05:48.947Z"
   },
   {
    "duration": 6,
    "start_time": "2024-09-30T22:14:14.706Z"
   },
   {
    "duration": 11,
    "start_time": "2024-09-30T22:16:54.905Z"
   },
   {
    "duration": 10,
    "start_time": "2024-09-30T22:17:12.977Z"
   },
   {
    "duration": 2,
    "start_time": "2024-09-30T22:17:50.587Z"
   },
   {
    "duration": 90,
    "start_time": "2024-09-30T22:17:51.995Z"
   },
   {
    "duration": 8,
    "start_time": "2024-09-30T22:17:55.128Z"
   },
   {
    "duration": 21,
    "start_time": "2024-09-30T22:17:56.205Z"
   },
   {
    "duration": 4,
    "start_time": "2024-09-30T22:17:57.721Z"
   },
   {
    "duration": 3,
    "start_time": "2024-09-30T22:17:58.715Z"
   },
   {
    "duration": 4,
    "start_time": "2024-09-30T22:17:59.576Z"
   },
   {
    "duration": 5,
    "start_time": "2024-09-30T22:18:00.364Z"
   },
   {
    "duration": 2,
    "start_time": "2024-09-30T22:18:01.067Z"
   },
   {
    "duration": 17,
    "start_time": "2024-09-30T22:18:02.720Z"
   },
   {
    "duration": 18,
    "start_time": "2024-09-30T22:18:03.886Z"
   },
   {
    "duration": 16,
    "start_time": "2024-09-30T22:18:05.076Z"
   },
   {
    "duration": 46,
    "start_time": "2024-09-30T22:18:07.152Z"
   },
   {
    "duration": 43,
    "start_time": "2024-09-30T22:18:08.102Z"
   },
   {
    "duration": 37,
    "start_time": "2024-09-30T22:18:09.035Z"
   },
   {
    "duration": 11,
    "start_time": "2024-09-30T22:18:09.941Z"
   },
   {
    "duration": 3,
    "start_time": "2024-09-30T22:18:37.315Z"
   },
   {
    "duration": 288894,
    "start_time": "2024-09-30T22:18:38.847Z"
   },
   {
    "duration": 1021,
    "start_time": "2024-10-01T00:20:55.227Z"
   },
   {
    "duration": 174,
    "start_time": "2024-10-01T00:21:48.099Z"
   },
   {
    "duration": 150,
    "start_time": "2024-10-01T00:22:01.264Z"
   },
   {
    "duration": 145,
    "start_time": "2024-10-01T00:22:25.950Z"
   },
   {
    "duration": 159,
    "start_time": "2024-10-01T00:22:28.204Z"
   },
   {
    "duration": 104,
    "start_time": "2024-10-01T00:23:45.706Z"
   },
   {
    "duration": 1013,
    "start_time": "2024-10-01T00:24:01.700Z"
   },
   {
    "duration": 2546,
    "start_time": "2024-10-01T00:35:00.672Z"
   },
   {
    "duration": 4,
    "start_time": "2024-10-01T00:35:49.603Z"
   },
   {
    "duration": 3,
    "start_time": "2024-10-01T00:36:05.182Z"
   },
   {
    "duration": 144,
    "start_time": "2024-10-01T00:36:17.884Z"
   },
   {
    "duration": 152,
    "start_time": "2024-10-01T00:36:30.885Z"
   },
   {
    "duration": 1027,
    "start_time": "2024-10-01T00:36:58.320Z"
   },
   {
    "duration": 221,
    "start_time": "2024-10-01T00:38:08.893Z"
   },
   {
    "duration": 8,
    "start_time": "2024-10-01T00:39:11.982Z"
   },
   {
    "duration": 9,
    "start_time": "2024-10-01T00:40:17.529Z"
   },
   {
    "duration": 308,
    "start_time": "2024-10-03T22:09:25.857Z"
   },
   {
    "duration": 134,
    "start_time": "2024-10-03T22:09:27.661Z"
   },
   {
    "duration": 12,
    "start_time": "2024-10-03T22:09:28.541Z"
   },
   {
    "duration": 23,
    "start_time": "2024-10-03T22:09:29.178Z"
   },
   {
    "duration": 4,
    "start_time": "2024-10-03T22:09:31.018Z"
   },
   {
    "duration": 4,
    "start_time": "2024-10-03T22:09:32.126Z"
   },
   {
    "duration": 4,
    "start_time": "2024-10-03T22:09:32.726Z"
   },
   {
    "duration": 8,
    "start_time": "2024-10-03T22:09:33.346Z"
   },
   {
    "duration": 3,
    "start_time": "2024-10-03T22:09:33.863Z"
   },
   {
    "duration": 18,
    "start_time": "2024-10-03T22:09:35.144Z"
   },
   {
    "duration": 21,
    "start_time": "2024-10-03T22:09:36.045Z"
   },
   {
    "duration": 17,
    "start_time": "2024-10-03T22:09:36.773Z"
   },
   {
    "duration": 47,
    "start_time": "2024-10-03T22:09:38.117Z"
   },
   {
    "duration": 50,
    "start_time": "2024-10-03T22:09:38.867Z"
   },
   {
    "duration": 38,
    "start_time": "2024-10-03T22:09:39.816Z"
   },
   {
    "duration": 11,
    "start_time": "2024-10-03T22:09:40.671Z"
   },
   {
    "duration": 4,
    "start_time": "2024-10-03T22:09:50.282Z"
   },
   {
    "duration": 290873,
    "start_time": "2024-10-03T22:09:51.318Z"
   },
   {
    "duration": 291745,
    "start_time": "2024-10-03T22:42:42.354Z"
   },
   {
    "duration": 11,
    "start_time": "2024-10-03T22:47:34.108Z"
   },
   {
    "duration": 10,
    "start_time": "2024-10-03T22:47:34.120Z"
   },
   {
    "duration": 7,
    "start_time": "2024-10-03T22:47:34.132Z"
   },
   {
    "duration": 8,
    "start_time": "2024-10-03T23:58:07.480Z"
   },
   {
    "duration": 4,
    "start_time": "2024-10-03T23:58:42.483Z"
   },
   {
    "duration": 4,
    "start_time": "2024-10-03T23:58:51.396Z"
   },
   {
    "duration": 3,
    "start_time": "2024-10-03T23:59:03.250Z"
   },
   {
    "duration": 3,
    "start_time": "2024-10-03T23:59:17.844Z"
   },
   {
    "duration": 182,
    "start_time": "2024-10-03T23:59:21.652Z"
   },
   {
    "duration": 341,
    "start_time": "2024-10-04T00:00:37.375Z"
   },
   {
    "duration": 275,
    "start_time": "2024-10-04T22:18:17.792Z"
   },
   {
    "duration": 127,
    "start_time": "2024-10-04T22:18:18.629Z"
   },
   {
    "duration": 12,
    "start_time": "2024-10-04T22:18:19.103Z"
   },
   {
    "duration": 22,
    "start_time": "2024-10-04T22:18:19.593Z"
   },
   {
    "duration": 4,
    "start_time": "2024-10-04T22:18:20.974Z"
   },
   {
    "duration": 3,
    "start_time": "2024-10-04T22:18:21.920Z"
   },
   {
    "duration": 4,
    "start_time": "2024-10-04T22:18:22.362Z"
   },
   {
    "duration": 7,
    "start_time": "2024-10-04T22:18:22.792Z"
   },
   {
    "duration": 2,
    "start_time": "2024-10-04T22:18:23.209Z"
   },
   {
    "duration": 19,
    "start_time": "2024-10-04T22:18:24.095Z"
   },
   {
    "duration": 23,
    "start_time": "2024-10-04T22:18:24.902Z"
   },
   {
    "duration": 16,
    "start_time": "2024-10-04T22:18:25.258Z"
   },
   {
    "duration": 44,
    "start_time": "2024-10-04T22:18:25.896Z"
   },
   {
    "duration": 47,
    "start_time": "2024-10-04T22:18:26.457Z"
   },
   {
    "duration": 39,
    "start_time": "2024-10-04T22:18:26.873Z"
   },
   {
    "duration": 11,
    "start_time": "2024-10-04T22:18:28.337Z"
   },
   {
    "duration": 6,
    "start_time": "2024-10-04T22:18:29.957Z"
   },
   {
    "duration": 285093,
    "start_time": "2024-10-04T22:18:30.511Z"
   },
   {
    "duration": 11,
    "start_time": "2024-10-04T22:23:15.606Z"
   },
   {
    "duration": 9,
    "start_time": "2024-10-04T22:23:15.618Z"
   },
   {
    "duration": 8,
    "start_time": "2024-10-04T22:23:15.629Z"
   },
   {
    "duration": 3,
    "start_time": "2024-10-04T22:23:15.639Z"
   },
   {
    "duration": 3,
    "start_time": "2024-10-04T22:48:41.838Z"
   },
   {
    "duration": 505,
    "start_time": "2024-10-04T22:48:48.022Z"
   },
   {
    "duration": 3,
    "start_time": "2024-10-04T22:49:12.787Z"
   },
   {
    "duration": 45,
    "start_time": "2024-10-04T22:49:17.148Z"
   },
   {
    "duration": 43,
    "start_time": "2024-10-04T22:50:29.301Z"
   },
   {
    "duration": 46,
    "start_time": "2024-10-04T22:50:50.490Z"
   },
   {
    "duration": 5,
    "start_time": "2024-10-04T22:52:28.638Z"
   },
   {
    "duration": 4,
    "start_time": "2024-10-04T23:17:27.378Z"
   },
   {
    "duration": 19,
    "start_time": "2024-10-04T23:17:34.091Z"
   },
   {
    "duration": 4,
    "start_time": "2024-10-04T23:19:10.444Z"
   },
   {
    "duration": 4,
    "start_time": "2024-10-04T23:19:14.735Z"
   },
   {
    "duration": 5,
    "start_time": "2024-10-04T23:19:23.952Z"
   },
   {
    "duration": 4,
    "start_time": "2024-10-04T23:19:46.883Z"
   },
   {
    "duration": 3,
    "start_time": "2024-10-04T23:19:55.505Z"
   },
   {
    "duration": 3,
    "start_time": "2024-10-04T23:19:58.316Z"
   },
   {
    "duration": 3,
    "start_time": "2024-10-04T23:20:36.769Z"
   },
   {
    "duration": 3,
    "start_time": "2024-10-04T23:20:39.305Z"
   },
   {
    "duration": 2,
    "start_time": "2024-10-04T23:20:55.497Z"
   },
   {
    "duration": 3,
    "start_time": "2024-10-04T23:20:58.211Z"
   },
   {
    "duration": 323,
    "start_time": "2024-10-05T16:02:02.406Z"
   },
   {
    "duration": 117,
    "start_time": "2024-10-05T16:02:03.228Z"
   },
   {
    "duration": 12,
    "start_time": "2024-10-05T16:02:03.811Z"
   },
   {
    "duration": 22,
    "start_time": "2024-10-05T16:02:04.289Z"
   },
   {
    "duration": 4,
    "start_time": "2024-10-05T16:02:05.254Z"
   },
   {
    "duration": 4,
    "start_time": "2024-10-05T16:02:05.966Z"
   },
   {
    "duration": 4,
    "start_time": "2024-10-05T16:02:06.351Z"
   },
   {
    "duration": 7,
    "start_time": "2024-10-05T16:02:06.705Z"
   },
   {
    "duration": 2,
    "start_time": "2024-10-05T16:02:07.096Z"
   },
   {
    "duration": 16,
    "start_time": "2024-10-05T16:02:07.719Z"
   },
   {
    "duration": 22,
    "start_time": "2024-10-05T16:02:08.315Z"
   },
   {
    "duration": 16,
    "start_time": "2024-10-05T16:02:08.726Z"
   },
   {
    "duration": 41,
    "start_time": "2024-10-05T16:02:09.528Z"
   },
   {
    "duration": 46,
    "start_time": "2024-10-05T16:02:10.072Z"
   },
   {
    "duration": 43,
    "start_time": "2024-10-05T16:02:10.438Z"
   },
   {
    "duration": 10,
    "start_time": "2024-10-05T16:02:11.215Z"
   },
   {
    "duration": 3,
    "start_time": "2024-10-05T16:02:11.874Z"
   },
   {
    "duration": 286765,
    "start_time": "2024-10-05T16:02:12.318Z"
   },
   {
    "duration": 20,
    "start_time": "2024-10-05T16:06:59.085Z"
   },
   {
    "duration": 10,
    "start_time": "2024-10-05T16:06:59.107Z"
   },
   {
    "duration": 8,
    "start_time": "2024-10-05T16:06:59.119Z"
   },
   {
    "duration": 3,
    "start_time": "2024-10-05T16:06:59.129Z"
   },
   {
    "duration": 3,
    "start_time": "2024-10-05T16:47:32.028Z"
   },
   {
    "duration": 3,
    "start_time": "2024-10-05T16:47:53.340Z"
   },
   {
    "duration": 174,
    "start_time": "2024-10-05T16:47:58.454Z"
   },
   {
    "duration": 3,
    "start_time": "2024-10-05T16:48:38.928Z"
   },
   {
    "duration": 17,
    "start_time": "2024-10-05T16:48:43.371Z"
   },
   {
    "duration": 2,
    "start_time": "2024-10-05T16:54:51.275Z"
   },
   {
    "duration": 305,
    "start_time": "2024-10-05T16:54:56.647Z"
   },
   {
    "duration": 3,
    "start_time": "2024-10-05T16:55:37.368Z"
   },
   {
    "duration": 21,
    "start_time": "2024-10-05T16:55:41.170Z"
   },
   {
    "duration": 3,
    "start_time": "2024-10-05T16:56:04.981Z"
   },
   {
    "duration": 49,
    "start_time": "2024-10-05T16:56:07.533Z"
   },
   {
    "duration": 2,
    "start_time": "2024-10-05T16:56:34.560Z"
   },
   {
    "duration": 14,
    "start_time": "2024-10-05T16:56:36.629Z"
   },
   {
    "duration": 13,
    "start_time": "2024-10-05T16:56:41.127Z"
   },
   {
    "duration": 11,
    "start_time": "2024-10-05T16:56:43.917Z"
   },
   {
    "duration": 11,
    "start_time": "2024-10-05T16:56:45.808Z"
   },
   {
    "duration": 13,
    "start_time": "2024-10-05T16:56:47.878Z"
   },
   {
    "duration": 12,
    "start_time": "2024-10-05T16:56:49.780Z"
   }
  ],
  "colab": {
   "collapsed_sections": [
    "E0vqbgi9ay0H",
    "VUC88oWjTJw2"
   ],
   "provenance": []
  },
  "kernelspec": {
   "display_name": "Python 3",
   "language": "python",
   "name": "python3"
  },
  "language_info": {
   "codemirror_mode": {
    "name": "ipython",
    "version": 3
   },
   "file_extension": ".py",
   "mimetype": "text/x-python",
   "name": "python",
   "nbconvert_exporter": "python",
   "pygments_lexer": "ipython3",
   "version": "3.13.1"
  },
  "toc": {
   "base_numbering": 1,
   "nav_menu": {},
   "number_sections": true,
   "sideBar": true,
   "skip_h1_title": true,
   "title_cell": "Table of Contents",
   "title_sidebar": "Contents",
   "toc_cell": false,
   "toc_position": {},
   "toc_section_display": true,
   "toc_window_display": false
  }
 },
 "nbformat": 4,
 "nbformat_minor": 1
}
